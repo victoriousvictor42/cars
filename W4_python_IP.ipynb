{
  "nbformat": 4,
  "nbformat_minor": 0,
  "metadata": {
    "colab": {
      "name": "W4_python_IP.ipynb",
      "provenance": []
    },
    "kernelspec": {
      "name": "python3",
      "display_name": "Python 3"
    }
  },
  "cells": [
    {
      "cell_type": "markdown",
      "metadata": {
        "id": "meyKzp3GWYAu",
        "colab_type": "text"
      },
      "source": [
        "# IMPORTING THE LIBRARIES"
      ]
    },
    {
      "cell_type": "code",
      "metadata": {
        "id": "KlwEI8OUuMi8",
        "colab_type": "code",
        "colab": {}
      },
      "source": [
        "# Importing pandas module\n",
        "import pandas as pd\n",
        "# Importing numpy module\n",
        "import numpy as np\n"
      ],
      "execution_count": 0,
      "outputs": []
    },
    {
      "cell_type": "markdown",
      "metadata": {
        "id": "8V7OLp7eWf2J",
        "colab_type": "text"
      },
      "source": [
        "# READING THE DATASET FILE"
      ]
    },
    {
      "cell_type": "code",
      "metadata": {
        "id": "-BGen6uqwnx5",
        "colab_type": "code",
        "colab": {}
      },
      "source": [
        "# Reading the csv file\n",
        "data = 'Autolib_dataset.csv'\n",
        "df = pd.read_csv(data, encoding= 'latin1')"
      ],
      "execution_count": 0,
      "outputs": []
    },
    {
      "cell_type": "code",
      "metadata": {
        "id": "mSyv1ZsMw-AJ",
        "colab_type": "code",
        "outputId": "bdf2a5ca-8ef7-418e-8318-8f4a2a713365",
        "colab": {
          "base_uri": "https://localhost:8080/",
          "height": 428
        }
      },
      "source": [
        "# Showing the first five rows of the dateset\n",
        "df.head()"
      ],
      "execution_count": 0,
      "outputs": [
        {
          "output_type": "execute_result",
          "data": {
            "text/html": [
              "<div>\n",
              "<style scoped>\n",
              "    .dataframe tbody tr th:only-of-type {\n",
              "        vertical-align: middle;\n",
              "    }\n",
              "\n",
              "    .dataframe tbody tr th {\n",
              "        vertical-align: top;\n",
              "    }\n",
              "\n",
              "    .dataframe thead th {\n",
              "        text-align: right;\n",
              "    }\n",
              "</style>\n",
              "<table border=\"1\" class=\"dataframe\">\n",
              "  <thead>\n",
              "    <tr style=\"text-align: right;\">\n",
              "      <th></th>\n",
              "      <th>Address</th>\n",
              "      <th>Cars</th>\n",
              "      <th>Bluecar counter</th>\n",
              "      <th>Utilib counter</th>\n",
              "      <th>Utilib 1.4 counter</th>\n",
              "      <th>Charge Slots</th>\n",
              "      <th>Charging Status</th>\n",
              "      <th>City</th>\n",
              "      <th>Displayed comment</th>\n",
              "      <th>ID</th>\n",
              "      <th>Kind</th>\n",
              "      <th>Geo point</th>\n",
              "      <th>Postal code</th>\n",
              "      <th>Public name</th>\n",
              "      <th>Rental status</th>\n",
              "      <th>Scheduled at</th>\n",
              "      <th>Slots</th>\n",
              "      <th>Station type</th>\n",
              "      <th>Status</th>\n",
              "      <th>Subscription status</th>\n",
              "      <th>year</th>\n",
              "      <th>month</th>\n",
              "      <th>day</th>\n",
              "      <th>hour</th>\n",
              "      <th>minute</th>\n",
              "    </tr>\n",
              "  </thead>\n",
              "  <tbody>\n",
              "    <tr>\n",
              "      <th>0</th>\n",
              "      <td>24 Rue Vulpian</td>\n",
              "      <td>3</td>\n",
              "      <td>3</td>\n",
              "      <td>1</td>\n",
              "      <td>0</td>\n",
              "      <td>1</td>\n",
              "      <td>operational</td>\n",
              "      <td>Paris</td>\n",
              "      <td>NaN</td>\n",
              "      <td>paris-vulpian-24</td>\n",
              "      <td>STATION</td>\n",
              "      <td>48.8310493, 2.3460584</td>\n",
              "      <td>75013</td>\n",
              "      <td>Paris/Vulpian/24</td>\n",
              "      <td>operational</td>\n",
              "      <td>NaN</td>\n",
              "      <td>1</td>\n",
              "      <td>station</td>\n",
              "      <td>ok</td>\n",
              "      <td>nonexistent</td>\n",
              "      <td>2018</td>\n",
              "      <td>4</td>\n",
              "      <td>1</td>\n",
              "      <td>0</td>\n",
              "      <td>0</td>\n",
              "    </tr>\n",
              "    <tr>\n",
              "      <th>1</th>\n",
              "      <td>8 Boulevard Richard Lenoir</td>\n",
              "      <td>0</td>\n",
              "      <td>0</td>\n",
              "      <td>0</td>\n",
              "      <td>0</td>\n",
              "      <td>1</td>\n",
              "      <td>operational</td>\n",
              "      <td>Paris</td>\n",
              "      <td>NaN</td>\n",
              "      <td>paris-richardlenoir-8</td>\n",
              "      <td>STATION</td>\n",
              "      <td>48.8545026, 2.370183</td>\n",
              "      <td>75011</td>\n",
              "      <td>Paris/Richard Lenoir/8</td>\n",
              "      <td>operational</td>\n",
              "      <td>NaN</td>\n",
              "      <td>3</td>\n",
              "      <td>station</td>\n",
              "      <td>ok</td>\n",
              "      <td>nonexistent</td>\n",
              "      <td>2018</td>\n",
              "      <td>4</td>\n",
              "      <td>1</td>\n",
              "      <td>0</td>\n",
              "      <td>0</td>\n",
              "    </tr>\n",
              "    <tr>\n",
              "      <th>2</th>\n",
              "      <td>4 Rue Charles Bossut</td>\n",
              "      <td>3</td>\n",
              "      <td>3</td>\n",
              "      <td>0</td>\n",
              "      <td>0</td>\n",
              "      <td>1</td>\n",
              "      <td>operational</td>\n",
              "      <td>Paris</td>\n",
              "      <td>NaN</td>\n",
              "      <td>paris-charlesbossut-4</td>\n",
              "      <td>STATION</td>\n",
              "      <td>48.8431847, 2.3837959</td>\n",
              "      <td>75012</td>\n",
              "      <td>Paris/Charles Bossut/4</td>\n",
              "      <td>operational</td>\n",
              "      <td>NaN</td>\n",
              "      <td>2</td>\n",
              "      <td>station</td>\n",
              "      <td>ok</td>\n",
              "      <td>nonexistent</td>\n",
              "      <td>2018</td>\n",
              "      <td>4</td>\n",
              "      <td>1</td>\n",
              "      <td>0</td>\n",
              "      <td>0</td>\n",
              "    </tr>\n",
              "    <tr>\n",
              "      <th>3</th>\n",
              "      <td>3 avenue Claude Vellefaux</td>\n",
              "      <td>4</td>\n",
              "      <td>4</td>\n",
              "      <td>0</td>\n",
              "      <td>0</td>\n",
              "      <td>0</td>\n",
              "      <td>operational</td>\n",
              "      <td>Paris</td>\n",
              "      <td>NaN</td>\n",
              "      <td>paris-claudevellefaux-3</td>\n",
              "      <td>STATION</td>\n",
              "      <td>48.8740623, 2.3703034</td>\n",
              "      <td>75010</td>\n",
              "      <td>Paris/Claude Vellefaux/3</td>\n",
              "      <td>operational</td>\n",
              "      <td>NaN</td>\n",
              "      <td>1</td>\n",
              "      <td>station</td>\n",
              "      <td>ok</td>\n",
              "      <td>nonexistent</td>\n",
              "      <td>2018</td>\n",
              "      <td>4</td>\n",
              "      <td>1</td>\n",
              "      <td>0</td>\n",
              "      <td>0</td>\n",
              "    </tr>\n",
              "    <tr>\n",
              "      <th>4</th>\n",
              "      <td>236 Boulevard Voltaire</td>\n",
              "      <td>1</td>\n",
              "      <td>1</td>\n",
              "      <td>0</td>\n",
              "      <td>0</td>\n",
              "      <td>1</td>\n",
              "      <td>operational</td>\n",
              "      <td>Paris</td>\n",
              "      <td>NaN</td>\n",
              "      <td>paris-voltaire-236</td>\n",
              "      <td>STATION</td>\n",
              "      <td>48.852023, 2.389719</td>\n",
              "      <td>75011</td>\n",
              "      <td>Paris/Voltaire/236</td>\n",
              "      <td>operational</td>\n",
              "      <td>NaN</td>\n",
              "      <td>4</td>\n",
              "      <td>station</td>\n",
              "      <td>ok</td>\n",
              "      <td>nonexistent</td>\n",
              "      <td>2018</td>\n",
              "      <td>4</td>\n",
              "      <td>1</td>\n",
              "      <td>0</td>\n",
              "      <td>0</td>\n",
              "    </tr>\n",
              "  </tbody>\n",
              "</table>\n",
              "</div>"
            ],
            "text/plain": [
              "                      Address  Cars  Bluecar counter  ...  day  hour  minute\n",
              "0              24 Rue Vulpian     3                3  ...    1     0       0\n",
              "1  8 Boulevard Richard Lenoir     0                0  ...    1     0       0\n",
              "2        4 Rue Charles Bossut     3                3  ...    1     0       0\n",
              "3   3 avenue Claude Vellefaux     4                4  ...    1     0       0\n",
              "4      236 Boulevard Voltaire     1                1  ...    1     0       0\n",
              "\n",
              "[5 rows x 25 columns]"
            ]
          },
          "metadata": {
            "tags": []
          },
          "execution_count": 7
        }
      ]
    },
    {
      "cell_type": "markdown",
      "metadata": {
        "id": "MfXSWvEK1LAP",
        "colab_type": "text"
      },
      "source": [
        "# EXPLORING THE DATASET"
      ]
    },
    {
      "cell_type": "code",
      "metadata": {
        "id": "EqpJElhwxquM",
        "colab_type": "code",
        "outputId": "a363279f-3730-4896-c39c-15c9473c30f3",
        "colab": {
          "base_uri": "https://localhost:8080/",
          "height": 136
        }
      },
      "source": [
        "# Checking the number of columns\n",
        "df.columns"
      ],
      "execution_count": 0,
      "outputs": [
        {
          "output_type": "execute_result",
          "data": {
            "text/plain": [
              "Index(['Address', 'Cars', 'Bluecar counter', 'Utilib counter',\n",
              "       'Utilib 1.4 counter', 'Charge Slots', 'Charging Status', 'City',\n",
              "       'Displayed comment', 'ID', 'Kind', 'Geo point', 'Postal code',\n",
              "       'Public name', 'Rental status', 'Scheduled at', 'Slots', 'Station type',\n",
              "       'Status', 'Subscription status', 'year', 'month', 'day', 'hour',\n",
              "       'minute'],\n",
              "      dtype='object')"
            ]
          },
          "metadata": {
            "tags": []
          },
          "execution_count": 8
        }
      ]
    },
    {
      "cell_type": "code",
      "metadata": {
        "id": "1a874ItRxtUB",
        "colab_type": "code",
        "outputId": "a12c4c52-7916-4dde-9ae9-c85095572a55",
        "colab": {
          "base_uri": "https://localhost:8080/",
          "height": 34
        }
      },
      "source": [
        "# Checking the number of rows\n",
        "df.index"
      ],
      "execution_count": 0,
      "outputs": [
        {
          "output_type": "execute_result",
          "data": {
            "text/plain": [
              "RangeIndex(start=0, stop=5001, step=1)"
            ]
          },
          "metadata": {
            "tags": []
          },
          "execution_count": 9
        }
      ]
    },
    {
      "cell_type": "code",
      "metadata": {
        "id": "td3nYRcxxuzO",
        "colab_type": "code",
        "outputId": "241a4b4c-0ac6-4771-d044-8e174cfb2194",
        "colab": {
          "base_uri": "https://localhost:8080/",
          "height": 34
        }
      },
      "source": [
        "# Checking the number of rows and columns\n",
        "df.shape\n"
      ],
      "execution_count": 0,
      "outputs": [
        {
          "output_type": "execute_result",
          "data": {
            "text/plain": [
              "(5001, 25)"
            ]
          },
          "metadata": {
            "tags": []
          },
          "execution_count": 10
        }
      ]
    },
    {
      "cell_type": "code",
      "metadata": {
        "id": "azOyZnpHxwtZ",
        "colab_type": "code",
        "outputId": "9c852cd9-5366-4527-b430-f328febfd30a",
        "colab": {
          "base_uri": "https://localhost:8080/",
          "height": 255
        }
      },
      "source": [
        "# Getting the description of the dataset\n",
        "df.describe"
      ],
      "execution_count": 0,
      "outputs": [
        {
          "output_type": "execute_result",
          "data": {
            "text/plain": [
              "<bound method NDFrame.describe of                          Address  Cars  Bluecar counter  ...  day  hour  minute\n",
              "0                 24 Rue Vulpian     3                3  ...    1     0       0\n",
              "1     8 Boulevard Richard Lenoir     0                0  ...    1     0       0\n",
              "2           4 Rue Charles Bossut     3                3  ...    1     0       0\n",
              "3      3 avenue Claude Vellefaux     4                4  ...    1     0       0\n",
              "4         236 Boulevard Voltaire     1                1  ...    1     0       0\n",
              "...                          ...   ...              ...  ...  ...   ...     ...\n",
              "4996  36 Boulevard Louise Michel     5                5  ...    1     0       4\n",
              "4997           1 Avenue Gambetta     3                3  ...    1     0       4\n",
              "4998   2 Rue de l'Amiral Coligny     2                2  ...    1     0       4\n",
              "4999  26 Rue du Quatre Septembre     0                0  ...    1     0       4\n",
              "5000                39 Rue Volta     2                2  ...    1     0       4\n",
              "\n",
              "[5001 rows x 25 columns]>"
            ]
          },
          "metadata": {
            "tags": []
          },
          "execution_count": 11
        }
      ]
    },
    {
      "cell_type": "code",
      "metadata": {
        "id": "7ovAktVjx45j",
        "colab_type": "code",
        "outputId": "98bc232a-5141-447c-8e6b-0980057a0503",
        "colab": {
          "base_uri": "https://localhost:8080/",
          "height": 527
        }
      },
      "source": [
        "# Getting the information about the dataset\n",
        "df.info()"
      ],
      "execution_count": 0,
      "outputs": [
        {
          "output_type": "stream",
          "text": [
            "<class 'pandas.core.frame.DataFrame'>\n",
            "RangeIndex: 5001 entries, 0 to 5000\n",
            "Data columns (total 25 columns):\n",
            "Address                5001 non-null object\n",
            "Cars                   5001 non-null int64\n",
            "Bluecar counter        5001 non-null int64\n",
            "Utilib counter         5001 non-null int64\n",
            "Utilib 1.4 counter     5001 non-null int64\n",
            "Charge Slots           5001 non-null int64\n",
            "Charging Status        5001 non-null object\n",
            "City                   5001 non-null object\n",
            "Displayed comment      102 non-null object\n",
            "ID                     5001 non-null object\n",
            "Kind                   5001 non-null object\n",
            "Geo point              5001 non-null object\n",
            "Postal code            5001 non-null int64\n",
            "Public name            5001 non-null object\n",
            "Rental status          5001 non-null object\n",
            "Scheduled at           36 non-null object\n",
            "Slots                  5001 non-null int64\n",
            "Station type           5001 non-null object\n",
            "Status                 5001 non-null object\n",
            "Subscription status    5001 non-null object\n",
            "year                   5001 non-null int64\n",
            "month                  5001 non-null int64\n",
            "day                    5001 non-null int64\n",
            "hour                   5001 non-null int64\n",
            "minute                 5001 non-null int64\n",
            "dtypes: int64(12), object(13)\n",
            "memory usage: 976.9+ KB\n"
          ],
          "name": "stdout"
        }
      ]
    },
    {
      "cell_type": "markdown",
      "metadata": {
        "id": "jsu5ufi91TM6",
        "colab_type": "text"
      },
      "source": [
        "# DATA CLEANING"
      ]
    },
    {
      "cell_type": "markdown",
      "metadata": {
        "id": "kQDkqnQE1iIl",
        "colab_type": "text"
      },
      "source": [
        "# Validity"
      ]
    },
    {
      "cell_type": "code",
      "metadata": {
        "id": "owdROa6AzdST",
        "colab_type": "code",
        "colab": {}
      },
      "source": [
        "# Dropping of unnecessary columns\n",
        "df.drop('Subscription status',axis=1, inplace=True)"
      ],
      "execution_count": 0,
      "outputs": []
    },
    {
      "cell_type": "code",
      "metadata": {
        "id": "0MUciRzezy1b",
        "colab_type": "code",
        "colab": {}
      },
      "source": [
        "df.drop('Scheduled at',axis = 1, inplace=True)"
      ],
      "execution_count": 0,
      "outputs": []
    },
    {
      "cell_type": "code",
      "metadata": {
        "id": "CQCoSQ3_0FX6",
        "colab_type": "code",
        "colab": {}
      },
      "source": [
        "df.drop('Displayed comment', axis = 1,inplace=True)"
      ],
      "execution_count": 0,
      "outputs": []
    },
    {
      "cell_type": "code",
      "metadata": {
        "id": "qNZIbpPg0U0-",
        "colab_type": "code",
        "outputId": "6fb4fa9f-ea71-4766-a51a-e518fdc283b0",
        "colab": {
          "base_uri": "https://localhost:8080/",
          "height": 119
        }
      },
      "source": [
        "df.columns"
      ],
      "execution_count": 0,
      "outputs": [
        {
          "output_type": "execute_result",
          "data": {
            "text/plain": [
              "Index(['Address', 'Cars', 'Bluecar counter', 'Utilib counter',\n",
              "       'Utilib 1.4 counter', 'Charge Slots', 'Charging Status', 'City', 'ID',\n",
              "       'Kind', 'Geo point', 'Postal code', 'Public name', 'Rental status',\n",
              "       'Slots', 'Station type', 'Status', 'year', 'month', 'day', 'hour',\n",
              "       'minute'],\n",
              "      dtype='object')"
            ]
          },
          "metadata": {
            "tags": []
          },
          "execution_count": 16
        }
      ]
    },
    {
      "cell_type": "code",
      "metadata": {
        "id": "drN7wkk_5eQR",
        "colab_type": "code",
        "outputId": "b482018e-ba3f-4a5c-829a-bd7cfe9c3a32",
        "colab": {
          "base_uri": "https://localhost:8080/",
          "height": 476
        }
      },
      "source": [
        "df.info()"
      ],
      "execution_count": 0,
      "outputs": [
        {
          "output_type": "stream",
          "text": [
            "<class 'pandas.core.frame.DataFrame'>\n",
            "RangeIndex: 5001 entries, 0 to 5000\n",
            "Data columns (total 22 columns):\n",
            "Address               5001 non-null object\n",
            "Cars                  5001 non-null int64\n",
            "Bluecar counter       5001 non-null int64\n",
            "Utilib counter        5001 non-null int64\n",
            "Utilib 1.4 counter    5001 non-null int64\n",
            "Charge Slots          5001 non-null int64\n",
            "Charging Status       5001 non-null object\n",
            "City                  5001 non-null object\n",
            "ID                    5001 non-null object\n",
            "Kind                  5001 non-null object\n",
            "Geo point             5001 non-null object\n",
            "Postal code           5001 non-null int64\n",
            "Public name           5001 non-null object\n",
            "Rental status         5001 non-null object\n",
            "Slots                 5001 non-null int64\n",
            "Station type          5001 non-null object\n",
            "Status                5001 non-null object\n",
            "year                  5001 non-null int64\n",
            "month                 5001 non-null int64\n",
            "day                   5001 non-null int64\n",
            "hour                  5001 non-null int64\n",
            "minute                5001 non-null int64\n",
            "dtypes: int64(12), object(10)\n",
            "memory usage: 859.7+ KB\n"
          ],
          "name": "stdout"
        }
      ]
    },
    {
      "cell_type": "markdown",
      "metadata": {
        "id": "mF-DZWj2FEK4",
        "colab_type": "text"
      },
      "source": [
        "# Accuracy"
      ]
    },
    {
      "cell_type": "code",
      "metadata": {
        "id": "iESCECgZFKeZ",
        "colab_type": "code",
        "colab": {}
      },
      "source": [
        "# Checking whether the redundancy between the cars Column and Bluecar Counter column is equal\n",
        "def total(row):\n",
        "  if row['cars'] == row['bluecar counter']:\n",
        "    return True\n",
        "  else:\n",
        "    return False\n"
      ],
      "execution_count": 0,
      "outputs": []
    },
    {
      "cell_type": "code",
      "metadata": {
        "id": "gClKlsOQONvF",
        "colab_type": "code",
        "outputId": "8e67b02f-cb3e-4141-996f-39291965462a",
        "colab": {
          "base_uri": "https://localhost:8080/",
          "height": 428
        }
      },
      "source": [
        "# Creating a new column called verifier\n",
        "df['verifier'] = df.apply(lambda row:total(row), axis=1)\n",
        "df.head()"
      ],
      "execution_count": 0,
      "outputs": [
        {
          "output_type": "execute_result",
          "data": {
            "text/html": [
              "<div>\n",
              "<style scoped>\n",
              "    .dataframe tbody tr th:only-of-type {\n",
              "        vertical-align: middle;\n",
              "    }\n",
              "\n",
              "    .dataframe tbody tr th {\n",
              "        vertical-align: top;\n",
              "    }\n",
              "\n",
              "    .dataframe thead th {\n",
              "        text-align: right;\n",
              "    }\n",
              "</style>\n",
              "<table border=\"1\" class=\"dataframe\">\n",
              "  <thead>\n",
              "    <tr style=\"text-align: right;\">\n",
              "      <th></th>\n",
              "      <th>address</th>\n",
              "      <th>cars</th>\n",
              "      <th>bluecar counter</th>\n",
              "      <th>utilib counter</th>\n",
              "      <th>utilib 1.4 counter</th>\n",
              "      <th>charge slots</th>\n",
              "      <th>charging status</th>\n",
              "      <th>city</th>\n",
              "      <th>id</th>\n",
              "      <th>kind</th>\n",
              "      <th>geo point</th>\n",
              "      <th>postal code</th>\n",
              "      <th>public name</th>\n",
              "      <th>rental status</th>\n",
              "      <th>slots</th>\n",
              "      <th>station type</th>\n",
              "      <th>status</th>\n",
              "      <th>year</th>\n",
              "      <th>month</th>\n",
              "      <th>day</th>\n",
              "      <th>hour</th>\n",
              "      <th>minute</th>\n",
              "      <th>verifier</th>\n",
              "    </tr>\n",
              "  </thead>\n",
              "  <tbody>\n",
              "    <tr>\n",
              "      <th>0</th>\n",
              "      <td>24 Rue Vulpian</td>\n",
              "      <td>3</td>\n",
              "      <td>3</td>\n",
              "      <td>1</td>\n",
              "      <td>0</td>\n",
              "      <td>1</td>\n",
              "      <td>operational</td>\n",
              "      <td>Paris</td>\n",
              "      <td>paris-vulpian-24</td>\n",
              "      <td>STATION</td>\n",
              "      <td>48.8310493, 2.3460584</td>\n",
              "      <td>75013</td>\n",
              "      <td>Paris/Vulpian/24</td>\n",
              "      <td>operational</td>\n",
              "      <td>1</td>\n",
              "      <td>station</td>\n",
              "      <td>ok</td>\n",
              "      <td>2018</td>\n",
              "      <td>4</td>\n",
              "      <td>1</td>\n",
              "      <td>0</td>\n",
              "      <td>0</td>\n",
              "      <td>True</td>\n",
              "    </tr>\n",
              "    <tr>\n",
              "      <th>1</th>\n",
              "      <td>8 Boulevard Richard Lenoir</td>\n",
              "      <td>0</td>\n",
              "      <td>0</td>\n",
              "      <td>0</td>\n",
              "      <td>0</td>\n",
              "      <td>1</td>\n",
              "      <td>operational</td>\n",
              "      <td>Paris</td>\n",
              "      <td>paris-richardlenoir-8</td>\n",
              "      <td>STATION</td>\n",
              "      <td>48.8545026, 2.370183</td>\n",
              "      <td>75011</td>\n",
              "      <td>Paris/Richard Lenoir/8</td>\n",
              "      <td>operational</td>\n",
              "      <td>3</td>\n",
              "      <td>station</td>\n",
              "      <td>ok</td>\n",
              "      <td>2018</td>\n",
              "      <td>4</td>\n",
              "      <td>1</td>\n",
              "      <td>0</td>\n",
              "      <td>0</td>\n",
              "      <td>True</td>\n",
              "    </tr>\n",
              "    <tr>\n",
              "      <th>2</th>\n",
              "      <td>4 Rue Charles Bossut</td>\n",
              "      <td>3</td>\n",
              "      <td>3</td>\n",
              "      <td>0</td>\n",
              "      <td>0</td>\n",
              "      <td>1</td>\n",
              "      <td>operational</td>\n",
              "      <td>Paris</td>\n",
              "      <td>paris-charlesbossut-4</td>\n",
              "      <td>STATION</td>\n",
              "      <td>48.8431847, 2.3837959</td>\n",
              "      <td>75012</td>\n",
              "      <td>Paris/Charles Bossut/4</td>\n",
              "      <td>operational</td>\n",
              "      <td>2</td>\n",
              "      <td>station</td>\n",
              "      <td>ok</td>\n",
              "      <td>2018</td>\n",
              "      <td>4</td>\n",
              "      <td>1</td>\n",
              "      <td>0</td>\n",
              "      <td>0</td>\n",
              "      <td>True</td>\n",
              "    </tr>\n",
              "    <tr>\n",
              "      <th>3</th>\n",
              "      <td>3 avenue Claude Vellefaux</td>\n",
              "      <td>4</td>\n",
              "      <td>4</td>\n",
              "      <td>0</td>\n",
              "      <td>0</td>\n",
              "      <td>0</td>\n",
              "      <td>operational</td>\n",
              "      <td>Paris</td>\n",
              "      <td>paris-claudevellefaux-3</td>\n",
              "      <td>STATION</td>\n",
              "      <td>48.8740623, 2.3703034</td>\n",
              "      <td>75010</td>\n",
              "      <td>Paris/Claude Vellefaux/3</td>\n",
              "      <td>operational</td>\n",
              "      <td>1</td>\n",
              "      <td>station</td>\n",
              "      <td>ok</td>\n",
              "      <td>2018</td>\n",
              "      <td>4</td>\n",
              "      <td>1</td>\n",
              "      <td>0</td>\n",
              "      <td>0</td>\n",
              "      <td>True</td>\n",
              "    </tr>\n",
              "    <tr>\n",
              "      <th>4</th>\n",
              "      <td>236 Boulevard Voltaire</td>\n",
              "      <td>1</td>\n",
              "      <td>1</td>\n",
              "      <td>0</td>\n",
              "      <td>0</td>\n",
              "      <td>1</td>\n",
              "      <td>operational</td>\n",
              "      <td>Paris</td>\n",
              "      <td>paris-voltaire-236</td>\n",
              "      <td>STATION</td>\n",
              "      <td>48.852023, 2.389719</td>\n",
              "      <td>75011</td>\n",
              "      <td>Paris/Voltaire/236</td>\n",
              "      <td>operational</td>\n",
              "      <td>4</td>\n",
              "      <td>station</td>\n",
              "      <td>ok</td>\n",
              "      <td>2018</td>\n",
              "      <td>4</td>\n",
              "      <td>1</td>\n",
              "      <td>0</td>\n",
              "      <td>0</td>\n",
              "      <td>True</td>\n",
              "    </tr>\n",
              "  </tbody>\n",
              "</table>\n",
              "</div>"
            ],
            "text/plain": [
              "                      address  cars  bluecar counter  ...  hour  minute  verifier\n",
              "0              24 Rue Vulpian     3                3  ...     0       0      True\n",
              "1  8 Boulevard Richard Lenoir     0                0  ...     0       0      True\n",
              "2        4 Rue Charles Bossut     3                3  ...     0       0      True\n",
              "3   3 avenue Claude Vellefaux     4                4  ...     0       0      True\n",
              "4      236 Boulevard Voltaire     1                1  ...     0       0      True\n",
              "\n",
              "[5 rows x 23 columns]"
            ]
          },
          "metadata": {
            "tags": []
          },
          "execution_count": 41
        }
      ]
    },
    {
      "cell_type": "markdown",
      "metadata": {
        "id": "yCI3BvNC1qT6",
        "colab_type": "text"
      },
      "source": [
        "# Completeness"
      ]
    },
    {
      "cell_type": "code",
      "metadata": {
        "id": "jWs5zxWU1wmA",
        "colab_type": "code",
        "outputId": "bc55d27c-0195-4124-dd42-7affa652a841",
        "colab": {
          "base_uri": "https://localhost:8080/",
          "height": 34
        }
      },
      "source": [
        "# Ckecking for null values\n",
        "df.isnull().any().any()"
      ],
      "execution_count": 0,
      "outputs": [
        {
          "output_type": "execute_result",
          "data": {
            "text/plain": [
              "False"
            ]
          },
          "metadata": {
            "tags": []
          },
          "execution_count": 18
        }
      ]
    },
    {
      "cell_type": "code",
      "metadata": {
        "id": "SC-1nfBH12xm",
        "colab_type": "code",
        "outputId": "8e6a5d68-1b21-40f3-c991-31da371acbe8",
        "colab": {
          "base_uri": "https://localhost:8080/",
          "height": 34
        }
      },
      "source": [
        "df.isnull().sum().sum()"
      ],
      "execution_count": 0,
      "outputs": [
        {
          "output_type": "execute_result",
          "data": {
            "text/plain": [
              "0"
            ]
          },
          "metadata": {
            "tags": []
          },
          "execution_count": 19
        }
      ]
    },
    {
      "cell_type": "code",
      "metadata": {
        "id": "ESk7BftY18zZ",
        "colab_type": "code",
        "colab": {}
      },
      "source": [
        ""
      ],
      "execution_count": 0,
      "outputs": []
    },
    {
      "cell_type": "markdown",
      "metadata": {
        "id": "BZ1W6hKb2BlH",
        "colab_type": "text"
      },
      "source": [
        "# Consistency"
      ]
    },
    {
      "cell_type": "code",
      "metadata": {
        "id": "HKPMjIzz2HaS",
        "colab_type": "code",
        "outputId": "e451044f-42aa-4a1f-acd6-6adde495f455",
        "colab": {
          "base_uri": "https://localhost:8080/",
          "height": 221
        }
      },
      "source": [
        "# Checking for duplicates\n",
        "df.duplicated()"
      ],
      "execution_count": 0,
      "outputs": [
        {
          "output_type": "execute_result",
          "data": {
            "text/plain": [
              "0       False\n",
              "1       False\n",
              "2       False\n",
              "3       False\n",
              "4       False\n",
              "        ...  \n",
              "4996    False\n",
              "4997    False\n",
              "4998    False\n",
              "4999    False\n",
              "5000    False\n",
              "Length: 5001, dtype: bool"
            ]
          },
          "metadata": {
            "tags": []
          },
          "execution_count": 20
        }
      ]
    },
    {
      "cell_type": "code",
      "metadata": {
        "id": "zvdTtk9Y2LTS",
        "colab_type": "code",
        "colab": {}
      },
      "source": [
        "# There are no duplicates in the dataset"
      ],
      "execution_count": 0,
      "outputs": []
    },
    {
      "cell_type": "markdown",
      "metadata": {
        "id": "YWW7tULR2QHh",
        "colab_type": "text"
      },
      "source": [
        "# Uniformity"
      ]
    },
    {
      "cell_type": "code",
      "metadata": {
        "id": "mTgc2V8y3kAB",
        "colab_type": "code",
        "outputId": "40fa89d1-5277-4bbb-84d4-f07a0680fc26",
        "colab": {
          "base_uri": "https://localhost:8080/",
          "height": 119
        }
      },
      "source": [
        "# changing all the columns names to lower case\n",
        "df.columns = df.columns.str.lower()\n",
        "df.columns"
      ],
      "execution_count": 0,
      "outputs": [
        {
          "output_type": "execute_result",
          "data": {
            "text/plain": [
              "Index(['address', 'cars', 'bluecar counter', 'utilib counter',\n",
              "       'utilib 1.4 counter', 'charge slots', 'charging status', 'city', 'id',\n",
              "       'kind', 'geo point', 'postal code', 'public name', 'rental status',\n",
              "       'slots', 'station type', 'status', 'year', 'month', 'day', 'hour',\n",
              "       'minute'],\n",
              "      dtype='object')"
            ]
          },
          "metadata": {
            "tags": []
          },
          "execution_count": 22
        }
      ]
    },
    {
      "cell_type": "code",
      "metadata": {
        "id": "SGO6z7LlSWP6",
        "colab_type": "code",
        "outputId": "640928db-8868-4c18-f2ef-7faa22b9835a",
        "colab": {
          "base_uri": "https://localhost:8080/",
          "height": 326
        }
      },
      "source": [
        "# Mergings multiple columns (year, month, day, hour, minute ) to one (datetime)\n",
        "df['datetime'] = pd.to_datetime(df[['year', 'month', 'day', 'hour','minute']])\n",
        "\n",
        "# The error shows because I have already dropped the above columns"
      ],
      "execution_count": 0,
      "outputs": [
        {
          "output_type": "error",
          "ename": "KeyError",
          "evalue": "ignored",
          "traceback": [
            "\u001b[0;31m---------------------------------------------------------------------------\u001b[0m",
            "\u001b[0;31mKeyError\u001b[0m                                  Traceback (most recent call last)",
            "\u001b[0;32m<ipython-input-56-d220be7dd047>\u001b[0m in \u001b[0;36m<module>\u001b[0;34m()\u001b[0m\n\u001b[0;32m----> 1\u001b[0;31m \u001b[0mdf\u001b[0m\u001b[0;34m[\u001b[0m\u001b[0;34m'datetime'\u001b[0m\u001b[0;34m]\u001b[0m \u001b[0;34m=\u001b[0m \u001b[0mpd\u001b[0m\u001b[0;34m.\u001b[0m\u001b[0mto_datetime\u001b[0m\u001b[0;34m(\u001b[0m\u001b[0mdf\u001b[0m\u001b[0;34m[\u001b[0m\u001b[0;34m[\u001b[0m\u001b[0;34m'year'\u001b[0m\u001b[0;34m,\u001b[0m \u001b[0;34m'month'\u001b[0m\u001b[0;34m,\u001b[0m \u001b[0;34m'day'\u001b[0m\u001b[0;34m,\u001b[0m \u001b[0;34m'hour'\u001b[0m\u001b[0;34m,\u001b[0m\u001b[0;34m'minute'\u001b[0m\u001b[0;34m]\u001b[0m\u001b[0;34m]\u001b[0m\u001b[0;34m)\u001b[0m\u001b[0;34m\u001b[0m\u001b[0;34m\u001b[0m\u001b[0m\n\u001b[0m",
            "\u001b[0;32m/usr/local/lib/python3.6/dist-packages/pandas/core/frame.py\u001b[0m in \u001b[0;36m__getitem__\u001b[0;34m(self, key)\u001b[0m\n\u001b[1;32m   2999\u001b[0m             \u001b[0;32mif\u001b[0m \u001b[0mis_iterator\u001b[0m\u001b[0;34m(\u001b[0m\u001b[0mkey\u001b[0m\u001b[0;34m)\u001b[0m\u001b[0;34m:\u001b[0m\u001b[0;34m\u001b[0m\u001b[0;34m\u001b[0m\u001b[0m\n\u001b[1;32m   3000\u001b[0m                 \u001b[0mkey\u001b[0m \u001b[0;34m=\u001b[0m \u001b[0mlist\u001b[0m\u001b[0;34m(\u001b[0m\u001b[0mkey\u001b[0m\u001b[0;34m)\u001b[0m\u001b[0;34m\u001b[0m\u001b[0;34m\u001b[0m\u001b[0m\n\u001b[0;32m-> 3001\u001b[0;31m             \u001b[0mindexer\u001b[0m \u001b[0;34m=\u001b[0m \u001b[0mself\u001b[0m\u001b[0;34m.\u001b[0m\u001b[0mloc\u001b[0m\u001b[0;34m.\u001b[0m\u001b[0m_convert_to_indexer\u001b[0m\u001b[0;34m(\u001b[0m\u001b[0mkey\u001b[0m\u001b[0;34m,\u001b[0m \u001b[0maxis\u001b[0m\u001b[0;34m=\u001b[0m\u001b[0;36m1\u001b[0m\u001b[0;34m,\u001b[0m \u001b[0mraise_missing\u001b[0m\u001b[0;34m=\u001b[0m\u001b[0;32mTrue\u001b[0m\u001b[0;34m)\u001b[0m\u001b[0;34m\u001b[0m\u001b[0;34m\u001b[0m\u001b[0m\n\u001b[0m\u001b[1;32m   3002\u001b[0m \u001b[0;34m\u001b[0m\u001b[0m\n\u001b[1;32m   3003\u001b[0m         \u001b[0;31m# take() does not accept boolean indexers\u001b[0m\u001b[0;34m\u001b[0m\u001b[0;34m\u001b[0m\u001b[0;34m\u001b[0m\u001b[0m\n",
            "\u001b[0;32m/usr/local/lib/python3.6/dist-packages/pandas/core/indexing.py\u001b[0m in \u001b[0;36m_convert_to_indexer\u001b[0;34m(self, obj, axis, is_setter, raise_missing)\u001b[0m\n\u001b[1;32m   1283\u001b[0m                 \u001b[0;31m# When setting, missing keys are not allowed, even with .loc:\u001b[0m\u001b[0;34m\u001b[0m\u001b[0;34m\u001b[0m\u001b[0;34m\u001b[0m\u001b[0m\n\u001b[1;32m   1284\u001b[0m                 \u001b[0mkwargs\u001b[0m \u001b[0;34m=\u001b[0m \u001b[0;34m{\u001b[0m\u001b[0;34m\"raise_missing\"\u001b[0m\u001b[0;34m:\u001b[0m \u001b[0;32mTrue\u001b[0m \u001b[0;32mif\u001b[0m \u001b[0mis_setter\u001b[0m \u001b[0;32melse\u001b[0m \u001b[0mraise_missing\u001b[0m\u001b[0;34m}\u001b[0m\u001b[0;34m\u001b[0m\u001b[0;34m\u001b[0m\u001b[0m\n\u001b[0;32m-> 1285\u001b[0;31m                 \u001b[0;32mreturn\u001b[0m \u001b[0mself\u001b[0m\u001b[0;34m.\u001b[0m\u001b[0m_get_listlike_indexer\u001b[0m\u001b[0;34m(\u001b[0m\u001b[0mobj\u001b[0m\u001b[0;34m,\u001b[0m \u001b[0maxis\u001b[0m\u001b[0;34m,\u001b[0m \u001b[0;34m**\u001b[0m\u001b[0mkwargs\u001b[0m\u001b[0;34m)\u001b[0m\u001b[0;34m[\u001b[0m\u001b[0;36m1\u001b[0m\u001b[0;34m]\u001b[0m\u001b[0;34m\u001b[0m\u001b[0;34m\u001b[0m\u001b[0m\n\u001b[0m\u001b[1;32m   1286\u001b[0m         \u001b[0;32melse\u001b[0m\u001b[0;34m:\u001b[0m\u001b[0;34m\u001b[0m\u001b[0;34m\u001b[0m\u001b[0m\n\u001b[1;32m   1287\u001b[0m             \u001b[0;32mtry\u001b[0m\u001b[0;34m:\u001b[0m\u001b[0;34m\u001b[0m\u001b[0;34m\u001b[0m\u001b[0m\n",
            "\u001b[0;32m/usr/local/lib/python3.6/dist-packages/pandas/core/indexing.py\u001b[0m in \u001b[0;36m_get_listlike_indexer\u001b[0;34m(self, key, axis, raise_missing)\u001b[0m\n\u001b[1;32m   1090\u001b[0m \u001b[0;34m\u001b[0m\u001b[0m\n\u001b[1;32m   1091\u001b[0m         self._validate_read_indexer(\n\u001b[0;32m-> 1092\u001b[0;31m             \u001b[0mkeyarr\u001b[0m\u001b[0;34m,\u001b[0m \u001b[0mindexer\u001b[0m\u001b[0;34m,\u001b[0m \u001b[0mo\u001b[0m\u001b[0;34m.\u001b[0m\u001b[0m_get_axis_number\u001b[0m\u001b[0;34m(\u001b[0m\u001b[0maxis\u001b[0m\u001b[0;34m)\u001b[0m\u001b[0;34m,\u001b[0m \u001b[0mraise_missing\u001b[0m\u001b[0;34m=\u001b[0m\u001b[0mraise_missing\u001b[0m\u001b[0;34m\u001b[0m\u001b[0;34m\u001b[0m\u001b[0m\n\u001b[0m\u001b[1;32m   1093\u001b[0m         )\n\u001b[1;32m   1094\u001b[0m         \u001b[0;32mreturn\u001b[0m \u001b[0mkeyarr\u001b[0m\u001b[0;34m,\u001b[0m \u001b[0mindexer\u001b[0m\u001b[0;34m\u001b[0m\u001b[0;34m\u001b[0m\u001b[0m\n",
            "\u001b[0;32m/usr/local/lib/python3.6/dist-packages/pandas/core/indexing.py\u001b[0m in \u001b[0;36m_validate_read_indexer\u001b[0;34m(self, key, indexer, axis, raise_missing)\u001b[0m\n\u001b[1;32m   1175\u001b[0m                 raise KeyError(\n\u001b[1;32m   1176\u001b[0m                     \"None of [{key}] are in the [{axis}]\".format(\n\u001b[0;32m-> 1177\u001b[0;31m                         \u001b[0mkey\u001b[0m\u001b[0;34m=\u001b[0m\u001b[0mkey\u001b[0m\u001b[0;34m,\u001b[0m \u001b[0maxis\u001b[0m\u001b[0;34m=\u001b[0m\u001b[0mself\u001b[0m\u001b[0;34m.\u001b[0m\u001b[0mobj\u001b[0m\u001b[0;34m.\u001b[0m\u001b[0m_get_axis_name\u001b[0m\u001b[0;34m(\u001b[0m\u001b[0maxis\u001b[0m\u001b[0;34m)\u001b[0m\u001b[0;34m\u001b[0m\u001b[0;34m\u001b[0m\u001b[0m\n\u001b[0m\u001b[1;32m   1178\u001b[0m                     )\n\u001b[1;32m   1179\u001b[0m                 )\n",
            "\u001b[0;31mKeyError\u001b[0m: \"None of [Index(['year', 'month', 'day', 'hour', 'minute'], dtype='object')] are in the [columns]\""
          ]
        }
      ]
    },
    {
      "cell_type": "code",
      "metadata": {
        "id": "oXvkbpUVTzZO",
        "colab_type": "code",
        "colab": {}
      },
      "source": [
        "# Dropping the following columns to avoid redundancy\n",
        "df.drop('year', axis=1, inplace= True)\n",
        "df.drop('month', axis=1, inplace= True)\n",
        "df.drop('day', axis=1, inplace= True)\n",
        "df.drop('hour', axis=1, inplace= True)\n",
        "df.drop('minute', axis=1, inplace= True)\n"
      ],
      "execution_count": 0,
      "outputs": []
    },
    {
      "cell_type": "code",
      "metadata": {
        "id": "gfeIWrC0UjVL",
        "colab_type": "code",
        "outputId": "9f6ccf4a-5eb5-4794-b9cf-764a260fc733",
        "colab": {
          "base_uri": "https://localhost:8080/",
          "height": 425
        }
      },
      "source": [
        "df.info()"
      ],
      "execution_count": 0,
      "outputs": [
        {
          "output_type": "stream",
          "text": [
            "<class 'pandas.core.frame.DataFrame'>\n",
            "RangeIndex: 5001 entries, 0 to 5000\n",
            "Data columns (total 19 columns):\n",
            "address               5001 non-null object\n",
            "cars                  5001 non-null int64\n",
            "bluecar counter       5001 non-null int64\n",
            "utilib counter        5001 non-null int64\n",
            "utilib 1.4 counter    5001 non-null int64\n",
            "charge slots          5001 non-null int64\n",
            "charging status       5001 non-null object\n",
            "city                  5001 non-null object\n",
            "id                    5001 non-null object\n",
            "kind                  5001 non-null object\n",
            "geo point             5001 non-null object\n",
            "postal code           5001 non-null int64\n",
            "public name           5001 non-null object\n",
            "rental status         5001 non-null object\n",
            "slots                 5001 non-null int64\n",
            "station type          5001 non-null object\n",
            "status                5001 non-null object\n",
            "verifier              5001 non-null bool\n",
            "datetime              5001 non-null datetime64[ns]\n",
            "dtypes: bool(1), datetime64[ns](1), int64(7), object(10)\n",
            "memory usage: 708.3+ KB\n"
          ],
          "name": "stdout"
        }
      ]
    },
    {
      "cell_type": "markdown",
      "metadata": {
        "id": "uJw3SmCM3mWX",
        "colab_type": "text"
      },
      "source": [
        "# Exporting the clean dataset"
      ]
    },
    {
      "cell_type": "code",
      "metadata": {
        "id": "ndnT-g3T3u6H",
        "colab_type": "code",
        "colab": {}
      },
      "source": [
        "df.to_csv('a_clean_dataset.csv')"
      ],
      "execution_count": 0,
      "outputs": []
    },
    {
      "cell_type": "code",
      "metadata": {
        "id": "fyPb4H4YUw6Z",
        "colab_type": "code",
        "colab": {}
      },
      "source": [
        "# Downloading the csv\n",
        "from google.colab import files\n",
        "files.download(\"a_clean_dataset.csv\")"
      ],
      "execution_count": 0,
      "outputs": []
    },
    {
      "cell_type": "code",
      "metadata": {
        "id": "kJ4aFcxooTJH",
        "colab_type": "code",
        "outputId": "581b6893-2ca0-486b-d040-c00bd6d7071f",
        "colab": {
          "base_uri": "https://localhost:8080/",
          "height": 847
        }
      },
      "source": [
        "df"
      ],
      "execution_count": 0,
      "outputs": [
        {
          "output_type": "execute_result",
          "data": {
            "text/html": [
              "<div>\n",
              "<style scoped>\n",
              "    .dataframe tbody tr th:only-of-type {\n",
              "        vertical-align: middle;\n",
              "    }\n",
              "\n",
              "    .dataframe tbody tr th {\n",
              "        vertical-align: top;\n",
              "    }\n",
              "\n",
              "    .dataframe thead th {\n",
              "        text-align: right;\n",
              "    }\n",
              "</style>\n",
              "<table border=\"1\" class=\"dataframe\">\n",
              "  <thead>\n",
              "    <tr style=\"text-align: right;\">\n",
              "      <th></th>\n",
              "      <th>address</th>\n",
              "      <th>cars</th>\n",
              "      <th>bluecar counter</th>\n",
              "      <th>utilib counter</th>\n",
              "      <th>utilib 1.4 counter</th>\n",
              "      <th>charge slots</th>\n",
              "      <th>charging status</th>\n",
              "      <th>city</th>\n",
              "      <th>id</th>\n",
              "      <th>kind</th>\n",
              "      <th>geo point</th>\n",
              "      <th>postal code</th>\n",
              "      <th>public name</th>\n",
              "      <th>rental status</th>\n",
              "      <th>slots</th>\n",
              "      <th>station type</th>\n",
              "      <th>status</th>\n",
              "      <th>verifier</th>\n",
              "      <th>datetime</th>\n",
              "    </tr>\n",
              "  </thead>\n",
              "  <tbody>\n",
              "    <tr>\n",
              "      <th>0</th>\n",
              "      <td>24 Rue Vulpian</td>\n",
              "      <td>3</td>\n",
              "      <td>3</td>\n",
              "      <td>1</td>\n",
              "      <td>0</td>\n",
              "      <td>1</td>\n",
              "      <td>operational</td>\n",
              "      <td>Paris</td>\n",
              "      <td>paris-vulpian-24</td>\n",
              "      <td>STATION</td>\n",
              "      <td>48.8310493, 2.3460584</td>\n",
              "      <td>75013</td>\n",
              "      <td>Paris/Vulpian/24</td>\n",
              "      <td>operational</td>\n",
              "      <td>1</td>\n",
              "      <td>station</td>\n",
              "      <td>ok</td>\n",
              "      <td>True</td>\n",
              "      <td>2018-04-01 00:00:00</td>\n",
              "    </tr>\n",
              "    <tr>\n",
              "      <th>1</th>\n",
              "      <td>8 Boulevard Richard Lenoir</td>\n",
              "      <td>0</td>\n",
              "      <td>0</td>\n",
              "      <td>0</td>\n",
              "      <td>0</td>\n",
              "      <td>1</td>\n",
              "      <td>operational</td>\n",
              "      <td>Paris</td>\n",
              "      <td>paris-richardlenoir-8</td>\n",
              "      <td>STATION</td>\n",
              "      <td>48.8545026, 2.370183</td>\n",
              "      <td>75011</td>\n",
              "      <td>Paris/Richard Lenoir/8</td>\n",
              "      <td>operational</td>\n",
              "      <td>3</td>\n",
              "      <td>station</td>\n",
              "      <td>ok</td>\n",
              "      <td>True</td>\n",
              "      <td>2018-04-01 00:00:00</td>\n",
              "    </tr>\n",
              "    <tr>\n",
              "      <th>2</th>\n",
              "      <td>4 Rue Charles Bossut</td>\n",
              "      <td>3</td>\n",
              "      <td>3</td>\n",
              "      <td>0</td>\n",
              "      <td>0</td>\n",
              "      <td>1</td>\n",
              "      <td>operational</td>\n",
              "      <td>Paris</td>\n",
              "      <td>paris-charlesbossut-4</td>\n",
              "      <td>STATION</td>\n",
              "      <td>48.8431847, 2.3837959</td>\n",
              "      <td>75012</td>\n",
              "      <td>Paris/Charles Bossut/4</td>\n",
              "      <td>operational</td>\n",
              "      <td>2</td>\n",
              "      <td>station</td>\n",
              "      <td>ok</td>\n",
              "      <td>True</td>\n",
              "      <td>2018-04-01 00:00:00</td>\n",
              "    </tr>\n",
              "    <tr>\n",
              "      <th>3</th>\n",
              "      <td>3 avenue Claude Vellefaux</td>\n",
              "      <td>4</td>\n",
              "      <td>4</td>\n",
              "      <td>0</td>\n",
              "      <td>0</td>\n",
              "      <td>0</td>\n",
              "      <td>operational</td>\n",
              "      <td>Paris</td>\n",
              "      <td>paris-claudevellefaux-3</td>\n",
              "      <td>STATION</td>\n",
              "      <td>48.8740623, 2.3703034</td>\n",
              "      <td>75010</td>\n",
              "      <td>Paris/Claude Vellefaux/3</td>\n",
              "      <td>operational</td>\n",
              "      <td>1</td>\n",
              "      <td>station</td>\n",
              "      <td>ok</td>\n",
              "      <td>True</td>\n",
              "      <td>2018-04-01 00:00:00</td>\n",
              "    </tr>\n",
              "    <tr>\n",
              "      <th>4</th>\n",
              "      <td>236 Boulevard Voltaire</td>\n",
              "      <td>1</td>\n",
              "      <td>1</td>\n",
              "      <td>0</td>\n",
              "      <td>0</td>\n",
              "      <td>1</td>\n",
              "      <td>operational</td>\n",
              "      <td>Paris</td>\n",
              "      <td>paris-voltaire-236</td>\n",
              "      <td>STATION</td>\n",
              "      <td>48.852023, 2.389719</td>\n",
              "      <td>75011</td>\n",
              "      <td>Paris/Voltaire/236</td>\n",
              "      <td>operational</td>\n",
              "      <td>4</td>\n",
              "      <td>station</td>\n",
              "      <td>ok</td>\n",
              "      <td>True</td>\n",
              "      <td>2018-04-01 00:00:00</td>\n",
              "    </tr>\n",
              "    <tr>\n",
              "      <th>...</th>\n",
              "      <td>...</td>\n",
              "      <td>...</td>\n",
              "      <td>...</td>\n",
              "      <td>...</td>\n",
              "      <td>...</td>\n",
              "      <td>...</td>\n",
              "      <td>...</td>\n",
              "      <td>...</td>\n",
              "      <td>...</td>\n",
              "      <td>...</td>\n",
              "      <td>...</td>\n",
              "      <td>...</td>\n",
              "      <td>...</td>\n",
              "      <td>...</td>\n",
              "      <td>...</td>\n",
              "      <td>...</td>\n",
              "      <td>...</td>\n",
              "      <td>...</td>\n",
              "      <td>...</td>\n",
              "    </tr>\n",
              "    <tr>\n",
              "      <th>4996</th>\n",
              "      <td>36 Boulevard Louise Michel</td>\n",
              "      <td>5</td>\n",
              "      <td>5</td>\n",
              "      <td>0</td>\n",
              "      <td>0</td>\n",
              "      <td>0</td>\n",
              "      <td>nonexistent</td>\n",
              "      <td>Gennevilliers</td>\n",
              "      <td>gennevilliers-louisemichel-36</td>\n",
              "      <td>STATION</td>\n",
              "      <td>48.9226538, 2.320639</td>\n",
              "      <td>92230</td>\n",
              "      <td>Gennevilliers/Louise Michel/36</td>\n",
              "      <td>operational</td>\n",
              "      <td>0</td>\n",
              "      <td>station</td>\n",
              "      <td>ok</td>\n",
              "      <td>True</td>\n",
              "      <td>2018-04-01 00:04:00</td>\n",
              "    </tr>\n",
              "    <tr>\n",
              "      <th>4997</th>\n",
              "      <td>1 Avenue Gambetta</td>\n",
              "      <td>3</td>\n",
              "      <td>3</td>\n",
              "      <td>0</td>\n",
              "      <td>0</td>\n",
              "      <td>1</td>\n",
              "      <td>operational</td>\n",
              "      <td>Paris</td>\n",
              "      <td>paris-gambetta-1</td>\n",
              "      <td>STATION</td>\n",
              "      <td>48.8632187, 2.388968</td>\n",
              "      <td>75020</td>\n",
              "      <td>Paris/Gambetta/1</td>\n",
              "      <td>operational</td>\n",
              "      <td>3</td>\n",
              "      <td>station</td>\n",
              "      <td>ok</td>\n",
              "      <td>True</td>\n",
              "      <td>2018-04-01 00:04:00</td>\n",
              "    </tr>\n",
              "    <tr>\n",
              "      <th>4998</th>\n",
              "      <td>2 Rue de l'Amiral Coligny</td>\n",
              "      <td>2</td>\n",
              "      <td>2</td>\n",
              "      <td>0</td>\n",
              "      <td>0</td>\n",
              "      <td>1</td>\n",
              "      <td>operational</td>\n",
              "      <td>Paris</td>\n",
              "      <td>paris-amiralcoligny-2</td>\n",
              "      <td>STATION</td>\n",
              "      <td>48.85971, 2.34024</td>\n",
              "      <td>75001</td>\n",
              "      <td>Paris/Amiral Coligny/2</td>\n",
              "      <td>operational</td>\n",
              "      <td>4</td>\n",
              "      <td>station</td>\n",
              "      <td>ok</td>\n",
              "      <td>True</td>\n",
              "      <td>2018-04-01 00:04:00</td>\n",
              "    </tr>\n",
              "    <tr>\n",
              "      <th>4999</th>\n",
              "      <td>26 Rue du Quatre Septembre</td>\n",
              "      <td>0</td>\n",
              "      <td>0</td>\n",
              "      <td>0</td>\n",
              "      <td>0</td>\n",
              "      <td>0</td>\n",
              "      <td>operational</td>\n",
              "      <td>Paris</td>\n",
              "      <td>paris-quatreseptembre-26</td>\n",
              "      <td>STATION</td>\n",
              "      <td>48.8700633, 2.3340228</td>\n",
              "      <td>75002</td>\n",
              "      <td>Paris/Quatre Septembre/26</td>\n",
              "      <td>operational</td>\n",
              "      <td>4</td>\n",
              "      <td>station</td>\n",
              "      <td>ok</td>\n",
              "      <td>True</td>\n",
              "      <td>2018-04-01 00:04:00</td>\n",
              "    </tr>\n",
              "    <tr>\n",
              "      <th>5000</th>\n",
              "      <td>39 Rue Volta</td>\n",
              "      <td>2</td>\n",
              "      <td>2</td>\n",
              "      <td>0</td>\n",
              "      <td>0</td>\n",
              "      <td>0</td>\n",
              "      <td>nonexistent</td>\n",
              "      <td>Paris</td>\n",
              "      <td>paris-volta-39</td>\n",
              "      <td>STATION</td>\n",
              "      <td>48.8665042, 2.3578808</td>\n",
              "      <td>75003</td>\n",
              "      <td>Paris/Volta/39</td>\n",
              "      <td>operational</td>\n",
              "      <td>1</td>\n",
              "      <td>station</td>\n",
              "      <td>ok</td>\n",
              "      <td>True</td>\n",
              "      <td>2018-04-01 00:04:00</td>\n",
              "    </tr>\n",
              "  </tbody>\n",
              "</table>\n",
              "<p>5001 rows × 19 columns</p>\n",
              "</div>"
            ],
            "text/plain": [
              "                         address  cars  ...  verifier            datetime\n",
              "0                 24 Rue Vulpian     3  ...      True 2018-04-01 00:00:00\n",
              "1     8 Boulevard Richard Lenoir     0  ...      True 2018-04-01 00:00:00\n",
              "2           4 Rue Charles Bossut     3  ...      True 2018-04-01 00:00:00\n",
              "3      3 avenue Claude Vellefaux     4  ...      True 2018-04-01 00:00:00\n",
              "4         236 Boulevard Voltaire     1  ...      True 2018-04-01 00:00:00\n",
              "...                          ...   ...  ...       ...                 ...\n",
              "4996  36 Boulevard Louise Michel     5  ...      True 2018-04-01 00:04:00\n",
              "4997           1 Avenue Gambetta     3  ...      True 2018-04-01 00:04:00\n",
              "4998   2 Rue de l'Amiral Coligny     2  ...      True 2018-04-01 00:04:00\n",
              "4999  26 Rue du Quatre Septembre     0  ...      True 2018-04-01 00:04:00\n",
              "5000                39 Rue Volta     2  ...      True 2018-04-01 00:04:00\n",
              "\n",
              "[5001 rows x 19 columns]"
            ]
          },
          "metadata": {
            "tags": []
          },
          "execution_count": 57
        }
      ]
    },
    {
      "cell_type": "markdown",
      "metadata": {
        "id": "7MjMlE_p359N",
        "colab_type": "text"
      },
      "source": [
        "# Answering the questions"
      ]
    },
    {
      "cell_type": "code",
      "metadata": {
        "id": "I4FWmHyA4AJY",
        "colab_type": "code",
        "outputId": "30805b32-df89-4294-9c2c-91a47786e297",
        "colab": {
          "base_uri": "https://localhost:8080/",
          "height": 319
        }
      },
      "source": [
        "# Identify the most popular hour of the day for picking up a shared electric car (Bluecar) \n",
        "# in the city of Paris over the month of April 2018\n",
        "g = pd.pivot_table(df, columns='city',  index='datetime' )\n",
        "g.head(1)"
      ],
      "execution_count": 0,
      "outputs": [
        {
          "output_type": "error",
          "ename": "KeyError",
          "evalue": "ignored",
          "traceback": [
            "\u001b[0;31m---------------------------------------------------------------------------\u001b[0m",
            "\u001b[0;31mKeyError\u001b[0m                                  Traceback (most recent call last)",
            "\u001b[0;32m<ipython-input-69-047ff3610067>\u001b[0m in \u001b[0;36m<module>\u001b[0;34m()\u001b[0m\n\u001b[0;32m----> 1\u001b[0;31m \u001b[0mg\u001b[0m \u001b[0;34m=\u001b[0m \u001b[0mpd\u001b[0m\u001b[0;34m.\u001b[0m\u001b[0mpivot_table\u001b[0m\u001b[0;34m(\u001b[0m\u001b[0mdf\u001b[0m\u001b[0;34m,\u001b[0m \u001b[0mcolumns\u001b[0m\u001b[0;34m=\u001b[0m\u001b[0;34m'city'\u001b[0m\u001b[0;34m,\u001b[0m  \u001b[0mindex\u001b[0m\u001b[0;34m=\u001b[0m\u001b[0;34m'datetime'\u001b[0m\u001b[0;34m,\u001b[0m \u001b[0mvalues\u001b[0m \u001b[0;34m=\u001b[0m \u001b[0;34m'Paris'\u001b[0m \u001b[0;34m)\u001b[0m\u001b[0;34m\u001b[0m\u001b[0;34m\u001b[0m\u001b[0m\n\u001b[0m\u001b[1;32m      2\u001b[0m \u001b[0mg\u001b[0m\u001b[0;34m.\u001b[0m\u001b[0mhead\u001b[0m\u001b[0;34m(\u001b[0m\u001b[0;36m1\u001b[0m\u001b[0;34m)\u001b[0m\u001b[0;34m\u001b[0m\u001b[0;34m\u001b[0m\u001b[0m\n",
            "\u001b[0;32m/usr/local/lib/python3.6/dist-packages/pandas/core/reshape/pivot.py\u001b[0m in \u001b[0;36mpivot_table\u001b[0;34m(data, values, index, columns, aggfunc, fill_value, margins, dropna, margins_name, observed)\u001b[0m\n\u001b[1;32m     70\u001b[0m         \u001b[0;32mfor\u001b[0m \u001b[0mi\u001b[0m \u001b[0;32min\u001b[0m \u001b[0mvalues\u001b[0m\u001b[0;34m:\u001b[0m\u001b[0;34m\u001b[0m\u001b[0;34m\u001b[0m\u001b[0m\n\u001b[1;32m     71\u001b[0m             \u001b[0;32mif\u001b[0m \u001b[0mi\u001b[0m \u001b[0;32mnot\u001b[0m \u001b[0;32min\u001b[0m \u001b[0mdata\u001b[0m\u001b[0;34m:\u001b[0m\u001b[0;34m\u001b[0m\u001b[0;34m\u001b[0m\u001b[0m\n\u001b[0;32m---> 72\u001b[0;31m                 \u001b[0;32mraise\u001b[0m \u001b[0mKeyError\u001b[0m\u001b[0;34m(\u001b[0m\u001b[0mi\u001b[0m\u001b[0;34m)\u001b[0m\u001b[0;34m\u001b[0m\u001b[0;34m\u001b[0m\u001b[0m\n\u001b[0m\u001b[1;32m     73\u001b[0m \u001b[0;34m\u001b[0m\u001b[0m\n\u001b[1;32m     74\u001b[0m         \u001b[0mto_filter\u001b[0m \u001b[0;34m=\u001b[0m \u001b[0;34m[\u001b[0m\u001b[0;34m]\u001b[0m\u001b[0;34m\u001b[0m\u001b[0;34m\u001b[0m\u001b[0m\n",
            "\u001b[0;31mKeyError\u001b[0m: 'Paris'"
          ]
        }
      ]
    },
    {
      "cell_type": "code",
      "metadata": {
        "id": "hvj_suaO4EZP",
        "colab_type": "code",
        "colab": {}
      },
      "source": [
        "# What is the most popular hour for returning cars?\n"
      ],
      "execution_count": 0,
      "outputs": []
    },
    {
      "cell_type": "code",
      "metadata": {
        "id": "45H68bNI4JRG",
        "colab_type": "code",
        "colab": {}
      },
      "source": [
        "# What station is the most popular?\n",
        "# Overall?"
      ],
      "execution_count": 0,
      "outputs": []
    },
    {
      "cell_type": "code",
      "metadata": {
        "id": "3ljLWtd_4T_Q",
        "colab_type": "code",
        "colab": {}
      },
      "source": [
        "# What station is the most popular?\n",
        "# At the most popular picking hour?"
      ],
      "execution_count": 0,
      "outputs": []
    },
    {
      "cell_type": "code",
      "metadata": {
        "id": "InQXO5nA4ZXo",
        "colab_type": "code",
        "colab": {}
      },
      "source": [
        "# What postal code is the most popular for picking up Bluecars? Does the most \n",
        "# popular station belong to that postal code?\n",
        "# Overall?\n",
        " "
      ],
      "execution_count": 0,
      "outputs": []
    },
    {
      "cell_type": "code",
      "metadata": {
        "id": "OWHb_Yf24o47",
        "colab_type": "code",
        "colab": {}
      },
      "source": [
        "# What postal code is the most popular for picking up Bluecars? Does the most \n",
        "# popular station belong to that postal code?\n",
        "# At the most popular picking hour?"
      ],
      "execution_count": 0,
      "outputs": []
    },
    {
      "cell_type": "code",
      "metadata": {
        "id": "SeIOfVEE4tKm",
        "colab_type": "code",
        "colab": {}
      },
      "source": [
        "# Do the results change if you consider Utilib and Utilib 1.4 instead of Bluecars? "
      ],
      "execution_count": 0,
      "outputs": []
    }
  ]
}