{
  "nbformat": 4,
  "nbformat_minor": 0,
  "metadata": {
    "colab": {
      "name": "W4_SQL_IP.ipynb",
      "provenance": []
    },
    "kernelspec": {
      "name": "python3",
      "display_name": "Python 3"
    }
  },
  "cells": [
    {
      "cell_type": "markdown",
      "metadata": {
        "id": "RvUimFQ6Y5OJ",
        "colab_type": "text"
      },
      "source": [
        "# CONNECTING TO THE DATABASE"
      ]
    },
    {
      "cell_type": "code",
      "metadata": {
        "id": "Ey2cPHzeZC0M",
        "colab_type": "code",
        "outputId": "76a4843c-e861-4004-ec26-02adc9f56691",
        "colab": {
          "base_uri": "https://localhost:8080/",
          "height": 34
        }
      },
      "source": [
        "# Loading the sql extension\n",
        "%load_ext sql\n",
        "\n",
        "# Connecting to the memory of the sql database\n",
        "%sql sqlite://"
      ],
      "execution_count": 0,
      "outputs": [
        {
          "output_type": "execute_result",
          "data": {
            "text/plain": [
              "'Connected: @None'"
            ]
          },
          "metadata": {
            "tags": []
          },
          "execution_count": 1
        }
      ]
    },
    {
      "cell_type": "markdown",
      "metadata": {
        "id": "Dz4P1DXDZb5O",
        "colab_type": "text"
      },
      "source": [
        "# LOADING THE DATASET\n"
      ]
    },
    {
      "cell_type": "code",
      "metadata": {
        "id": "w4TYAJulZj11",
        "colab_type": "code",
        "outputId": "9d54f753-a7d1-4bd2-89ed-edccd60dae74",
        "colab": {
          "base_uri": "https://localhost:8080/",
          "height": 85
        }
      },
      "source": [
        "# Import pandas dataset\n",
        "import pandas as pd \n",
        "\n",
        "# Load the csv file\n",
        "with open('a_clean_dataset.csv','r') as f:\n",
        "    car = pd.read_csv(f, index_col=0, encoding='utf-8')\n",
        "%sql DROP TABLE if EXISTS car;\n",
        "%sql PERSIST car;"
      ],
      "execution_count": 0,
      "outputs": [
        {
          "output_type": "stream",
          "text": [
            " * sqlite://\n",
            "Done.\n",
            " * sqlite://\n"
          ],
          "name": "stdout"
        },
        {
          "output_type": "execute_result",
          "data": {
            "text/plain": [
              "'Persisted car'"
            ]
          },
          "metadata": {
            "tags": []
          },
          "execution_count": 4
        }
      ]
    },
    {
      "cell_type": "markdown",
      "metadata": {
        "id": "_r9UAsLBaJOP",
        "colab_type": "text"
      },
      "source": [
        "# VIEWING THE DATASET"
      ]
    },
    {
      "cell_type": "code",
      "metadata": {
        "id": "410BdtnbcBcp",
        "colab_type": "code",
        "outputId": "edd9b735-d891-4718-e8b7-083f1b0d94da",
        "colab": {
          "base_uri": "https://localhost:8080/",
          "height": 420
        }
      },
      "source": [
        "%%sql\n",
        "SELECT * FROM car LIMIT 5"
      ],
      "execution_count": 0,
      "outputs": [
        {
          "output_type": "stream",
          "text": [
            " * sqlite://\n",
            "Done.\n"
          ],
          "name": "stdout"
        },
        {
          "output_type": "execute_result",
          "data": {
            "text/html": [
              "<table>\n",
              "    <tr>\n",
              "        <th>index</th>\n",
              "        <th>address</th>\n",
              "        <th>cars</th>\n",
              "        <th>bluecar counter</th>\n",
              "        <th>utilib counter</th>\n",
              "        <th>utilib 1.4 counter</th>\n",
              "        <th>charge slots</th>\n",
              "        <th>charging status</th>\n",
              "        <th>city</th>\n",
              "        <th>id</th>\n",
              "        <th>kind</th>\n",
              "        <th>geo point</th>\n",
              "        <th>postal code</th>\n",
              "        <th>public name</th>\n",
              "        <th>rental status</th>\n",
              "        <th>slots</th>\n",
              "        <th>station type</th>\n",
              "        <th>status</th>\n",
              "        <th>verifier</th>\n",
              "        <th>datetime</th>\n",
              "    </tr>\n",
              "    <tr>\n",
              "        <td>0</td>\n",
              "        <td>24 Rue Vulpian</td>\n",
              "        <td>3</td>\n",
              "        <td>3</td>\n",
              "        <td>1</td>\n",
              "        <td>0</td>\n",
              "        <td>1</td>\n",
              "        <td>operational</td>\n",
              "        <td>Paris</td>\n",
              "        <td>paris-vulpian-24</td>\n",
              "        <td>STATION</td>\n",
              "        <td>48.8310493, 2.3460584</td>\n",
              "        <td>75013</td>\n",
              "        <td>Paris/Vulpian/24</td>\n",
              "        <td>operational</td>\n",
              "        <td>1</td>\n",
              "        <td>station</td>\n",
              "        <td>ok</td>\n",
              "        <td>1</td>\n",
              "        <td>2018-04-01 00:00:00</td>\n",
              "    </tr>\n",
              "    <tr>\n",
              "        <td>1</td>\n",
              "        <td>8 Boulevard Richard Lenoir</td>\n",
              "        <td>0</td>\n",
              "        <td>0</td>\n",
              "        <td>0</td>\n",
              "        <td>0</td>\n",
              "        <td>1</td>\n",
              "        <td>operational</td>\n",
              "        <td>Paris</td>\n",
              "        <td>paris-richardlenoir-8</td>\n",
              "        <td>STATION</td>\n",
              "        <td>48.8545026, 2.370183</td>\n",
              "        <td>75011</td>\n",
              "        <td>Paris/Richard Lenoir/8</td>\n",
              "        <td>operational</td>\n",
              "        <td>3</td>\n",
              "        <td>station</td>\n",
              "        <td>ok</td>\n",
              "        <td>1</td>\n",
              "        <td>2018-04-01 00:00:00</td>\n",
              "    </tr>\n",
              "    <tr>\n",
              "        <td>2</td>\n",
              "        <td>4 Rue Charles Bossut</td>\n",
              "        <td>3</td>\n",
              "        <td>3</td>\n",
              "        <td>0</td>\n",
              "        <td>0</td>\n",
              "        <td>1</td>\n",
              "        <td>operational</td>\n",
              "        <td>Paris</td>\n",
              "        <td>paris-charlesbossut-4</td>\n",
              "        <td>STATION</td>\n",
              "        <td>48.8431847, 2.3837959</td>\n",
              "        <td>75012</td>\n",
              "        <td>Paris/Charles Bossut/4</td>\n",
              "        <td>operational</td>\n",
              "        <td>2</td>\n",
              "        <td>station</td>\n",
              "        <td>ok</td>\n",
              "        <td>1</td>\n",
              "        <td>2018-04-01 00:00:00</td>\n",
              "    </tr>\n",
              "    <tr>\n",
              "        <td>3</td>\n",
              "        <td>3 avenue Claude Vellefaux</td>\n",
              "        <td>4</td>\n",
              "        <td>4</td>\n",
              "        <td>0</td>\n",
              "        <td>0</td>\n",
              "        <td>0</td>\n",
              "        <td>operational</td>\n",
              "        <td>Paris</td>\n",
              "        <td>paris-claudevellefaux-3</td>\n",
              "        <td>STATION</td>\n",
              "        <td>48.8740623, 2.3703034</td>\n",
              "        <td>75010</td>\n",
              "        <td>Paris/Claude Vellefaux/3</td>\n",
              "        <td>operational</td>\n",
              "        <td>1</td>\n",
              "        <td>station</td>\n",
              "        <td>ok</td>\n",
              "        <td>1</td>\n",
              "        <td>2018-04-01 00:00:00</td>\n",
              "    </tr>\n",
              "    <tr>\n",
              "        <td>4</td>\n",
              "        <td>236 Boulevard Voltaire</td>\n",
              "        <td>1</td>\n",
              "        <td>1</td>\n",
              "        <td>0</td>\n",
              "        <td>0</td>\n",
              "        <td>1</td>\n",
              "        <td>operational</td>\n",
              "        <td>Paris</td>\n",
              "        <td>paris-voltaire-236</td>\n",
              "        <td>STATION</td>\n",
              "        <td>48.852023, 2.389719</td>\n",
              "        <td>75011</td>\n",
              "        <td>Paris/Voltaire/236</td>\n",
              "        <td>operational</td>\n",
              "        <td>4</td>\n",
              "        <td>station</td>\n",
              "        <td>ok</td>\n",
              "        <td>1</td>\n",
              "        <td>2018-04-01 00:00:00</td>\n",
              "    </tr>\n",
              "</table>"
            ],
            "text/plain": [
              "[(0, '24 Rue Vulpian', 3, 3, 1, 0, 1, 'operational', 'Paris', 'paris-vulpian-24', 'STATION', '48.8310493, 2.3460584', 75013, 'Paris/Vulpian/24', 'operational', 1, 'station', 'ok', 1, '2018-04-01 00:00:00'),\n",
              " (1, '8 Boulevard Richard Lenoir', 0, 0, 0, 0, 1, 'operational', 'Paris', 'paris-richardlenoir-8', 'STATION', '48.8545026, 2.370183', 75011, 'Paris/Richard Lenoir/8', 'operational', 3, 'station', 'ok', 1, '2018-04-01 00:00:00'),\n",
              " (2, '4 Rue Charles Bossut', 3, 3, 0, 0, 1, 'operational', 'Paris', 'paris-charlesbossut-4', 'STATION', '48.8431847, 2.3837959', 75012, 'Paris/Charles Bossut/4', 'operational', 2, 'station', 'ok', 1, '2018-04-01 00:00:00'),\n",
              " (3, '3 avenue Claude Vellefaux', 4, 4, 0, 0, 0, 'operational', 'Paris', 'paris-claudevellefaux-3', 'STATION', '48.8740623, 2.3703034', 75010, 'Paris/Claude Vellefaux/3', 'operational', 1, 'station', 'ok', 1, '2018-04-01 00:00:00'),\n",
              " (4, '236 Boulevard Voltaire', 1, 1, 0, 0, 1, 'operational', 'Paris', 'paris-voltaire-236', 'STATION', '48.852023, 2.389719', 75011, 'Paris/Voltaire/236', 'operational', 4, 'station', 'ok', 1, '2018-04-01 00:00:00')]"
            ]
          },
          "metadata": {
            "tags": []
          },
          "execution_count": 5
        }
      ]
    },
    {
      "cell_type": "markdown",
      "metadata": {
        "id": "PtJfFOZEcVAn",
        "colab_type": "text"
      },
      "source": [
        "# ANSWERING THE QUESTIONS"
      ]
    },
    {
      "cell_type": "code",
      "metadata": {
        "id": "7zF6EpvN9WMw",
        "colab_type": "code",
        "colab": {}
      },
      "source": [
        "# Identify the most popular hour of the day for picking up a shared electric car (Bluecar) \n",
        "# in the city of Paris over the month of April 2018\n"
      ],
      "execution_count": 0,
      "outputs": []
    },
    {
      "cell_type": "code",
      "metadata": {
        "id": "5r3J_uwe9lZZ",
        "colab_type": "code",
        "colab": {}
      },
      "source": [
        "# What is the most popular hour for returning cars?\n"
      ],
      "execution_count": 0,
      "outputs": []
    },
    {
      "cell_type": "code",
      "metadata": {
        "id": "J8P9Dps99php",
        "colab_type": "code",
        "colab": {}
      },
      "source": [
        "# What station is the most popular?\n",
        "# Overall?"
      ],
      "execution_count": 0,
      "outputs": []
    },
    {
      "cell_type": "code",
      "metadata": {
        "id": "3ljLWtd_4T_Q",
        "colab_type": "code",
        "colab": {}
      },
      "source": [
        "# What station is the most popular?\n",
        "# At the most popular picking hour?"
      ],
      "execution_count": 0,
      "outputs": []
    },
    {
      "cell_type": "code",
      "metadata": {
        "id": "jIQywbtmYh53",
        "colab_type": "code",
        "colab": {}
      },
      "source": [
        "# What postal code is the most popular for picking up Bluecars? Does the most \n",
        "# popular station belong to that postal code?\n",
        "# Overall?"
      ],
      "execution_count": 0,
      "outputs": []
    },
    {
      "cell_type": "code",
      "metadata": {
        "id": "5GCFComMYk7u",
        "colab_type": "code",
        "colab": {}
      },
      "source": [
        "# What postal code is the most popular for picking up Bluecars? Does the most \n",
        "# popular station belong to that postal code?\n",
        "# At the most popular picking hour?"
      ],
      "execution_count": 0,
      "outputs": []
    },
    {
      "cell_type": "code",
      "metadata": {
        "id": "TZnfc2jhYnfu",
        "colab_type": "code",
        "colab": {}
      },
      "source": [
        "# Do the results change if you consider Utilib and Utilib 1.4 instead of Bluecars? "
      ],
      "execution_count": 0,
      "outputs": []
    }
  ]
}