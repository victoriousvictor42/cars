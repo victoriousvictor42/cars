{
  "nbformat": 4,
  "nbformat_minor": 0,
  "metadata": {
    "colab": {
      "name": "W4_SQL_IP.ipynb",
      "provenance": [],
      "toc_visible": true,
      "include_colab_link": true
    },
    "kernelspec": {
      "name": "python3",
      "display_name": "Python 3"
    }
  },
  "cells": [
    {
      "cell_type": "markdown",
      "metadata": {
        "id": "view-in-github",
        "colab_type": "text"
      },
      "source": [
        "<a href=\"https://colab.research.google.com/github/victoriousvictor42/cars/blob/master/W4_SQL_IP.ipynb\" target=\"_parent\"><img src=\"https://colab.research.google.com/assets/colab-badge.svg\" alt=\"Open In Colab\"/></a>"
      ]
    },
    {
      "cell_type": "markdown",
      "metadata": {
        "id": "RvUimFQ6Y5OJ",
        "colab_type": "text"
      },
      "source": [
        "# CONNECTING TO THE DATABASE"
      ]
    },
    {
      "cell_type": "code",
      "metadata": {
        "id": "Ey2cPHzeZC0M",
        "colab_type": "code",
        "outputId": "9a7e21e5-521b-4426-e970-5bdc3c4a0dd1",
        "colab": {
          "base_uri": "https://localhost:8080/",
          "height": 34
        }
      },
      "source": [
        "# Loading the sql extension\n",
        "%load_ext sql\n",
        "\n",
        "# Connecting to the memory of the sql database\n",
        "%sql sqlite://"
      ],
      "execution_count": 0,
      "outputs": [
        {
          "output_type": "execute_result",
          "data": {
            "text/plain": [
              "'Connected: @None'"
            ]
          },
          "metadata": {
            "tags": []
          },
          "execution_count": 1
        }
      ]
    },
    {
      "cell_type": "markdown",
      "metadata": {
        "id": "Dz4P1DXDZb5O",
        "colab_type": "text"
      },
      "source": [
        "# LOADING THE DATASET\n"
      ]
    },
    {
      "cell_type": "code",
      "metadata": {
        "id": "w4TYAJulZj11",
        "colab_type": "code",
        "outputId": "bbfbd4d8-9b7b-4ce9-de9d-99a01d242705",
        "colab": {
          "base_uri": "https://localhost:8080/",
          "height": 87
        }
      },
      "source": [
        "# Import pandas dataset\n",
        "import pandas as pd \n",
        "\n",
        "# Load the csv file\n",
        "with open('a_clean_dataset.csv','r') as f:\n",
        "    car = pd.read_csv(f, index_col=0, encoding='utf-8')\n",
        "%sql DROP TABLE if EXISTS car;\n",
        "%sql PERSIST car;"
      ],
      "execution_count": 0,
      "outputs": [
        {
          "output_type": "stream",
          "text": [
            " * sqlite://\n",
            "Done.\n",
            " * sqlite://\n"
          ],
          "name": "stdout"
        },
        {
          "output_type": "execute_result",
          "data": {
            "text/plain": [
              "'Persisted car'"
            ]
          },
          "metadata": {
            "tags": []
          },
          "execution_count": 2
        }
      ]
    },
    {
      "cell_type": "markdown",
      "metadata": {
        "id": "_r9UAsLBaJOP",
        "colab_type": "text"
      },
      "source": [
        "# VIEWING THE DATASET"
      ]
    },
    {
      "cell_type": "code",
      "metadata": {
        "id": "410BdtnbcBcp",
        "colab_type": "code",
        "outputId": "a5dbbd89-4789-497e-896a-d1cf9986462d",
        "colab": {
          "base_uri": "https://localhost:8080/",
          "height": 396
        }
      },
      "source": [
        "%%sql\n",
        "SELECT * FROM car LIMIT 5"
      ],
      "execution_count": 0,
      "outputs": [
        {
          "output_type": "stream",
          "text": [
            " * sqlite://\n",
            "Done.\n"
          ],
          "name": "stdout"
        },
        {
          "output_type": "execute_result",
          "data": {
            "text/html": [
              "<table>\n",
              "    <tr>\n",
              "        <th>index</th>\n",
              "        <th>address</th>\n",
              "        <th>cars</th>\n",
              "        <th>bluecar counter</th>\n",
              "        <th>utilib counter</th>\n",
              "        <th>utilib 1.4 counter</th>\n",
              "        <th>charge slots</th>\n",
              "        <th>charging status</th>\n",
              "        <th>city</th>\n",
              "        <th>id</th>\n",
              "        <th>kind</th>\n",
              "        <th>geo point</th>\n",
              "        <th>postal code</th>\n",
              "        <th>public name</th>\n",
              "        <th>rental status</th>\n",
              "        <th>slots</th>\n",
              "        <th>station type</th>\n",
              "        <th>status</th>\n",
              "        <th>verifier</th>\n",
              "        <th>datetime</th>\n",
              "    </tr>\n",
              "    <tr>\n",
              "        <td>0</td>\n",
              "        <td>24 Rue Vulpian</td>\n",
              "        <td>3</td>\n",
              "        <td>3</td>\n",
              "        <td>1</td>\n",
              "        <td>0</td>\n",
              "        <td>1</td>\n",
              "        <td>operational</td>\n",
              "        <td>Paris</td>\n",
              "        <td>paris-vulpian-24</td>\n",
              "        <td>STATION</td>\n",
              "        <td>48.8310493, 2.3460584</td>\n",
              "        <td>75013</td>\n",
              "        <td>Paris/Vulpian/24</td>\n",
              "        <td>operational</td>\n",
              "        <td>1</td>\n",
              "        <td>station</td>\n",
              "        <td>ok</td>\n",
              "        <td>1</td>\n",
              "        <td>2018-04-01 00:00:00</td>\n",
              "    </tr>\n",
              "    <tr>\n",
              "        <td>1</td>\n",
              "        <td>8 Boulevard Richard Lenoir</td>\n",
              "        <td>0</td>\n",
              "        <td>0</td>\n",
              "        <td>0</td>\n",
              "        <td>0</td>\n",
              "        <td>1</td>\n",
              "        <td>operational</td>\n",
              "        <td>Paris</td>\n",
              "        <td>paris-richardlenoir-8</td>\n",
              "        <td>STATION</td>\n",
              "        <td>48.8545026, 2.370183</td>\n",
              "        <td>75011</td>\n",
              "        <td>Paris/Richard Lenoir/8</td>\n",
              "        <td>operational</td>\n",
              "        <td>3</td>\n",
              "        <td>station</td>\n",
              "        <td>ok</td>\n",
              "        <td>1</td>\n",
              "        <td>2018-04-01 00:00:00</td>\n",
              "    </tr>\n",
              "    <tr>\n",
              "        <td>2</td>\n",
              "        <td>4 Rue Charles Bossut</td>\n",
              "        <td>3</td>\n",
              "        <td>3</td>\n",
              "        <td>0</td>\n",
              "        <td>0</td>\n",
              "        <td>1</td>\n",
              "        <td>operational</td>\n",
              "        <td>Paris</td>\n",
              "        <td>paris-charlesbossut-4</td>\n",
              "        <td>STATION</td>\n",
              "        <td>48.8431847, 2.3837959</td>\n",
              "        <td>75012</td>\n",
              "        <td>Paris/Charles Bossut/4</td>\n",
              "        <td>operational</td>\n",
              "        <td>2</td>\n",
              "        <td>station</td>\n",
              "        <td>ok</td>\n",
              "        <td>1</td>\n",
              "        <td>2018-04-01 00:00:00</td>\n",
              "    </tr>\n",
              "    <tr>\n",
              "        <td>3</td>\n",
              "        <td>3 avenue Claude Vellefaux</td>\n",
              "        <td>4</td>\n",
              "        <td>4</td>\n",
              "        <td>0</td>\n",
              "        <td>0</td>\n",
              "        <td>0</td>\n",
              "        <td>operational</td>\n",
              "        <td>Paris</td>\n",
              "        <td>paris-claudevellefaux-3</td>\n",
              "        <td>STATION</td>\n",
              "        <td>48.8740623, 2.3703034</td>\n",
              "        <td>75010</td>\n",
              "        <td>Paris/Claude Vellefaux/3</td>\n",
              "        <td>operational</td>\n",
              "        <td>1</td>\n",
              "        <td>station</td>\n",
              "        <td>ok</td>\n",
              "        <td>1</td>\n",
              "        <td>2018-04-01 00:00:00</td>\n",
              "    </tr>\n",
              "    <tr>\n",
              "        <td>4</td>\n",
              "        <td>236 Boulevard Voltaire</td>\n",
              "        <td>1</td>\n",
              "        <td>1</td>\n",
              "        <td>0</td>\n",
              "        <td>0</td>\n",
              "        <td>1</td>\n",
              "        <td>operational</td>\n",
              "        <td>Paris</td>\n",
              "        <td>paris-voltaire-236</td>\n",
              "        <td>STATION</td>\n",
              "        <td>48.852023, 2.389719</td>\n",
              "        <td>75011</td>\n",
              "        <td>Paris/Voltaire/236</td>\n",
              "        <td>operational</td>\n",
              "        <td>4</td>\n",
              "        <td>station</td>\n",
              "        <td>ok</td>\n",
              "        <td>1</td>\n",
              "        <td>2018-04-01 00:00:00</td>\n",
              "    </tr>\n",
              "</table>"
            ],
            "text/plain": [
              "[(0, '24 Rue Vulpian', 3, 3, 1, 0, 1, 'operational', 'Paris', 'paris-vulpian-24', 'STATION', '48.8310493, 2.3460584', 75013, 'Paris/Vulpian/24', 'operational', 1, 'station', 'ok', 1, '2018-04-01 00:00:00'),\n",
              " (1, '8 Boulevard Richard Lenoir', 0, 0, 0, 0, 1, 'operational', 'Paris', 'paris-richardlenoir-8', 'STATION', '48.8545026, 2.370183', 75011, 'Paris/Richard Lenoir/8', 'operational', 3, 'station', 'ok', 1, '2018-04-01 00:00:00'),\n",
              " (2, '4 Rue Charles Bossut', 3, 3, 0, 0, 1, 'operational', 'Paris', 'paris-charlesbossut-4', 'STATION', '48.8431847, 2.3837959', 75012, 'Paris/Charles Bossut/4', 'operational', 2, 'station', 'ok', 1, '2018-04-01 00:00:00'),\n",
              " (3, '3 avenue Claude Vellefaux', 4, 4, 0, 0, 0, 'operational', 'Paris', 'paris-claudevellefaux-3', 'STATION', '48.8740623, 2.3703034', 75010, 'Paris/Claude Vellefaux/3', 'operational', 1, 'station', 'ok', 1, '2018-04-01 00:00:00'),\n",
              " (4, '236 Boulevard Voltaire', 1, 1, 0, 0, 1, 'operational', 'Paris', 'paris-voltaire-236', 'STATION', '48.852023, 2.389719', 75011, 'Paris/Voltaire/236', 'operational', 4, 'station', 'ok', 1, '2018-04-01 00:00:00')]"
            ]
          },
          "metadata": {
            "tags": []
          },
          "execution_count": 3
        }
      ]
    },
    {
      "cell_type": "markdown",
      "metadata": {
        "id": "PtJfFOZEcVAn",
        "colab_type": "text"
      },
      "source": [
        "# ANSWERING THE QUESTIONS"
      ]
    },
    {
      "cell_type": "code",
      "metadata": {
        "id": "7zF6EpvN9WMw",
        "colab_type": "code",
        "outputId": "9c0d9d48-08de-4f95-9ef1-a5f251aed344",
        "colab": {
          "base_uri": "https://localhost:8080/",
          "height": 88
        }
      },
      "source": [
        "# Identify the most popular hour of the day for picking up a shared electric car (Bluecar) \n",
        "# in the city of Paris over the month of April 2018\n",
        "%%sql\n",
        "SELECT datetime,city FROM car\n",
        "WHERE City=\"Paris\"\n",
        "\n",
        "GROUP  BY datetime\n",
        "ORDER  BY COUNT(*) DESC LIMIT 1;  "
      ],
      "execution_count": 15,
      "outputs": [
        {
          "output_type": "stream",
          "text": [
            " * sqlite://\n",
            "Done.\n"
          ],
          "name": "stdout"
        },
        {
          "output_type": "execute_result",
          "data": {
            "text/html": [
              "<table>\n",
              "    <tr>\n",
              "        <th>datetime</th>\n",
              "        <th>city</th>\n",
              "    </tr>\n",
              "    <tr>\n",
              "        <td>2018-04-01 00:03:00</td>\n",
              "        <td>Paris</td>\n",
              "    </tr>\n",
              "</table>"
            ],
            "text/plain": [
              "[('2018-04-01 00:03:00', 'Paris')]"
            ]
          },
          "metadata": {
            "tags": []
          },
          "execution_count": 15
        }
      ]
    },
    {
      "cell_type": "code",
      "metadata": {
        "id": "5r3J_uwe9lZZ",
        "colab_type": "code",
        "outputId": "ee468511-7503-467d-80db-1c735f348f36",
        "colab": {
          "base_uri": "https://localhost:8080/",
          "height": 88
        }
      },
      "source": [
        "# What is the most popular hour for returning cars?\n",
        "%%sql\n",
        "SELECT  datetime\n",
        "FROM  car \n",
        "GROUP  BY datetime\n",
        "ORDER  BY COUNT(*) ASC LIMIT 1; "
      ],
      "execution_count": 17,
      "outputs": [
        {
          "output_type": "stream",
          "text": [
            " * sqlite://\n",
            "Done.\n"
          ],
          "name": "stdout"
        },
        {
          "output_type": "execute_result",
          "data": {
            "text/html": [
              "<table>\n",
              "    <tr>\n",
              "        <th>datetime</th>\n",
              "    </tr>\n",
              "    <tr>\n",
              "        <td>2018-04-01 00:04:00</td>\n",
              "    </tr>\n",
              "</table>"
            ],
            "text/plain": [
              "[('2018-04-01 00:04:00',)]"
            ]
          },
          "metadata": {
            "tags": []
          },
          "execution_count": 17
        }
      ]
    },
    {
      "cell_type": "code",
      "metadata": {
        "id": "J8P9Dps99php",
        "colab_type": "code",
        "colab": {
          "base_uri": "https://localhost:8080/",
          "height": 88
        },
        "outputId": "18b4fba3-038d-46bb-c979-715f8a82776c"
      },
      "source": [
        "# What station is the most popular?\n",
        "# Overall?\n",
        "%%sql\n",
        "SELECT kind,'geo point',id\n",
        "FROM(SELECT *  FROM car\n",
        "      WHERE city = \"Paris\")\n",
        "GROUP  BY id\n",
        "ORDER  BY COUNT(*) ASC LIMIT 1; "
      ],
      "execution_count": 19,
      "outputs": [
        {
          "output_type": "stream",
          "text": [
            " * sqlite://\n",
            "Done.\n"
          ],
          "name": "stdout"
        },
        {
          "output_type": "execute_result",
          "data": {
            "text/html": [
              "<table>\n",
              "    <tr>\n",
              "        <th>kind</th>\n",
              "        <th>&#x27;geo point&#x27;</th>\n",
              "        <th>id</th>\n",
              "    </tr>\n",
              "    <tr>\n",
              "        <td>STATION</td>\n",
              "        <td>geo point</td>\n",
              "        <td>paris-adolphemille-8</td>\n",
              "    </tr>\n",
              "</table>"
            ],
            "text/plain": [
              "[('STATION', 'geo point', 'paris-adolphemille-8')]"
            ]
          },
          "metadata": {
            "tags": []
          },
          "execution_count": 19
        }
      ]
    },
    {
      "cell_type": "code",
      "metadata": {
        "id": "3ljLWtd_4T_Q",
        "colab_type": "code",
        "colab": {
          "base_uri": "https://localhost:8080/",
          "height": 88
        },
        "outputId": "688e013e-9e43-465d-ad7e-c9b012dbe0f3"
      },
      "source": [
        "# What station is the most popular?\n",
        "# At the most popular picking hour?\n",
        "%%sql\n",
        "SELECT kind,'geo point',ID\n",
        "FROM\n",
        "(SELECT datetime,id,kind,'geo point'\n",
        "FROM(SELECT *  FROM car  WHERE city = \"Paris\")\n",
        "GROUP  BY datetime\n",
        "ORDER  BY COUNT(*) DESC)\n",
        "GROUP  BY id\n",
        "ORDER  BY COUNT(*) DESC LIMIT 1;"
      ],
      "execution_count": 26,
      "outputs": [
        {
          "output_type": "stream",
          "text": [
            " * sqlite://\n",
            "Done.\n"
          ],
          "name": "stdout"
        },
        {
          "output_type": "execute_result",
          "data": {
            "text/html": [
              "<table>\n",
              "    <tr>\n",
              "        <th>kind</th>\n",
              "        <th>&#x27;geo point&#x27;</th>\n",
              "        <th>id</th>\n",
              "    </tr>\n",
              "    <tr>\n",
              "        <td>PARKING</td>\n",
              "        <td>geo point</td>\n",
              "        <td>paris-portedechamperret-6</td>\n",
              "    </tr>\n",
              "</table>"
            ],
            "text/plain": [
              "[('PARKING', 'geo point', 'paris-portedechamperret-6')]"
            ]
          },
          "metadata": {
            "tags": []
          },
          "execution_count": 26
        }
      ]
    },
    {
      "cell_type": "code",
      "metadata": {
        "id": "jIQywbtmYh53",
        "colab_type": "code",
        "colab": {
          "base_uri": "https://localhost:8080/",
          "height": 88
        },
        "outputId": "ee4d1f42-b59b-491b-ca15-4779f5d71857"
      },
      "source": [
        "# What postal code is the most popular for picking up Bluecars? Does the most \n",
        "# popular station belong to that postal code?\n",
        "# Overall?\n",
        "%%sql\n",
        "SELECT 'Postal code'\n",
        "FROM\n",
        "(SELECT *\n",
        "FROM(SELECT*  FROM car\n",
        "      WHERE city = \"Paris\")\n",
        "GROUP  BY datetime\n",
        "ORDER  BY COUNT(*) DESC)\n",
        "GROUP  BY cars\n",
        "ORDER  BY COUNT(*) DESC LIMIT 1; "
      ],
      "execution_count": 28,
      "outputs": [
        {
          "output_type": "stream",
          "text": [
            " * sqlite://\n",
            "Done.\n"
          ],
          "name": "stdout"
        },
        {
          "output_type": "execute_result",
          "data": {
            "text/html": [
              "<table>\n",
              "    <tr>\n",
              "        <th>&#x27;Postal code&#x27;</th>\n",
              "    </tr>\n",
              "    <tr>\n",
              "        <td>Postal code</td>\n",
              "    </tr>\n",
              "</table>"
            ],
            "text/plain": [
              "[('Postal code',)]"
            ]
          },
          "metadata": {
            "tags": []
          },
          "execution_count": 28
        }
      ]
    }
  ]
}